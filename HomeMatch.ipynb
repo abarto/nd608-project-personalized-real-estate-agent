{
 "cells": [
  {
   "cell_type": "code",
   "execution_count": 1,
   "metadata": {},
   "outputs": [],
   "source": [
    "# Load environment variables from a .env file. Alternatively you can\n",
    "# manually set the value of OPENAI_API_KEY on this cell.\n",
    "import logging\n",
    "from os import environ\n",
    "\n",
    "try:\n",
    "    from dotenv import load_dotenv\n",
    "    load_dotenv()\n",
    "except ModuleNotFoundError:\n",
    "    pass\n",
    "\n",
    "if \"OPENAI_API_KEY\" not in environ:\n",
    "    environ[\"OPENAI_API_KEY\"] = \"your-openai-api-key\"\n",
    "\n",
    "environ[\"TOKENIZERS_PARALLELISM\"] = \"false\"\n",
    "\n",
    "logging.basicConfig(level=logging.INFO)"
   ]
  },
  {
   "cell_type": "code",
   "execution_count": 2,
   "metadata": {},
   "outputs": [
    {
     "name": "stderr",
     "output_type": "stream",
     "text": [
      "INFO:httpx:HTTP Request: GET https://api.gradio.app/gradio-messaging/en \"HTTP/1.1 200 OK\"\n"
     ]
    }
   ],
   "source": [
    "from app import create_app"
   ]
  },
  {
   "cell_type": "code",
   "execution_count": null,
   "metadata": {},
   "outputs": [
    {
     "name": "stderr",
     "output_type": "stream",
     "text": [
      "INFO:httpx:HTTP Request: GET http://127.0.0.1:7860/startup-events \"HTTP/1.1 200 OK\"\n",
      "INFO:httpx:HTTP Request: HEAD http://127.0.0.1:7860/ \"HTTP/1.1 200 OK\"\n"
     ]
    },
    {
     "name": "stdout",
     "output_type": "stream",
     "text": [
      "Running on local URL:  http://127.0.0.1:7860\n",
      "\n",
      "To create a public link, set `share=True` in `launch()`.\n"
     ]
    },
    {
     "data": {
      "text/html": [
       "<div><iframe src=\"http://127.0.0.1:7860/\" width=\"100%\" height=\"500\" allow=\"autoplay; camera; microphone; clipboard-read; clipboard-write;\" frameborder=\"0\" allowfullscreen></iframe></div>"
      ],
      "text/plain": [
       "<IPython.core.display.HTML object>"
      ]
     },
     "metadata": {},
     "output_type": "display_data"
    },
    {
     "data": {
      "text/plain": []
     },
     "execution_count": 3,
     "metadata": {},
     "output_type": "execute_result"
    },
    {
     "name": "stderr",
     "output_type": "stream",
     "text": [
      "INFO:httpx:HTTP Request: GET https://checkip.amazonaws.com/ \"HTTP/1.1 200 \"\n",
      "INFO:httpx:HTTP Request: GET https://checkip.amazonaws.com/ \"HTTP/1.1 200 \"\n",
      "INFO:httpx:HTTP Request: GET https://api.gradio.app/pkg-version \"HTTP/1.1 200 OK\"\n",
      "INFO:httpx:HTTP Request: POST https://api.gradio.app/gradio-initiated-analytics/ \"HTTP/1.1 200 OK\"\n",
      "INFO:httpx:HTTP Request: POST https://api.gradio.app/gradio-launched-telemetry/ \"HTTP/1.1 200 OK\"\n",
      "INFO:app:preferences: I want a house with a modern kitchen, number_of_bedrooms: 0, number_of_bathrooms: 0 has_solar_panels: True, price_range: None\n",
      "INFO:app:preferences: I want a house with a modern kitchen, number_of_bedrooms: 0, number_of_bathrooms: 0, has_solar_panels: True, price_range: None\n",
      "INFO:httpx:HTTP Request: POST https://api.openai.com/v1/chat/completions \"HTTP/1.1 200 OK\"\n",
      "INFO:app:response: ChatCompletion(id='chatcmpl-9IOS73I9xVMWNTCAyhMRitS34inDA', choices=[Choice(finish_reason='stop', index=0, logprobs=None, message=ChatCompletionMessage(content=\"**Welcome to Your Dream Sanctuary in Silver Lake!**\\n\\nStep into a world where luxury meets modern living in this breathtaking 5-bedroom, 4.5-bathroom masterpiece nestled in the heart of the exclusive Silver Lake community. Known for its opulent residences and awe-inspiring natural vistas, Silver Lake is the backdrop for this one-of-a-kind home that promises not just a dwelling but a lifestyle.\\n\\nAs you enter, be prepared to be swept off your feet by the custom design that seamlessly blends sophistication with cutting-edge technology. The heart of this home is undoubtedly its modern kitchen, a culinary dream equipped with top-of-the-line appliances and sleek finishes, perfect for the gourmet chef or the everyday meal prep.\\n\\nImagine sipping your morning coffee on your private dock, the gentle sounds of the lake setting a tranquil tone for your day. Or perhaps hosting a sunset soiree for friends and family, the lake reflecting the brilliant colors of the sky. This home is not just a place to live, but a haven of elegance and comfort.\\n\\nNot to be overlooked are the eco-friendly features that complement your lifestyle. Solar panels ensure your home is efficiently powered, while smart home technology brings convenience and security right to your fingertips.\\n\\nIn Silver Lake, you're not just buying a home; you're claiming a piece of paradise where luxury and nature coexist beautifully. Don't miss the opportunity to make this exquisite residence your own. Embrace the elegance, embrace the comfort, embrace your new home in Silver Lake.\", role='assistant', function_call=None, tool_calls=None))], created=1714170927, model='gpt-4-turbo-2024-04-09', object='chat.completion', system_fingerprint='fp_ea6eb70039', usage=CompletionUsage(completion_tokens=300, prompt_tokens=194, total_tokens=494))\n"
     ]
    }
   ],
   "source": [
    "home_match_app = create_app()\n",
    "home_match_app.launch(share=False)"
   ]
  },
  {
   "cell_type": "code",
   "execution_count": null,
   "metadata": {},
   "outputs": [],
   "source": []
  }
 ],
 "metadata": {
  "kernelspec": {
   "display_name": "nd608-cd13267",
   "language": "python",
   "name": "python3"
  },
  "language_info": {
   "codemirror_mode": {
    "name": "ipython",
    "version": 3
   },
   "file_extension": ".py",
   "mimetype": "text/x-python",
   "name": "python",
   "nbconvert_exporter": "python",
   "pygments_lexer": "ipython3",
   "version": "3.12.3"
  }
 },
 "nbformat": 4,
 "nbformat_minor": 2
}
